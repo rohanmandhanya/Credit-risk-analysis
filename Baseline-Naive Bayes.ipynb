{
 "cells": [
  {
   "cell_type": "code",
   "execution_count": 1,
   "metadata": {},
   "outputs": [
    {
     "data": {
      "application/javascript": [
       "if(window['d3'] === undefined ||\n",
       "   window['Nyaplot'] === undefined){\n",
       "    var path = {\"d3\":\"https://cdnjs.cloudflare.com/ajax/libs/d3/3.5.5/d3.min\",\"downloadable\":\"http://cdn.rawgit.com/domitry/d3-downloadable/master/d3-downloadable\"};\n",
       "\n",
       "\n",
       "\n",
       "    var shim = {\"d3\":{\"exports\":\"d3\"},\"downloadable\":{\"exports\":\"downloadable\"}};\n",
       "\n",
       "    require.config({paths: path, shim:shim});\n",
       "\n",
       "\n",
       "require(['d3'], function(d3){window['d3']=d3;console.log('finished loading d3');require(['downloadable'], function(downloadable){window['downloadable']=downloadable;console.log('finished loading downloadable');\n",
       "\n",
       "\tvar script = d3.select(\"head\")\n",
       "\t    .append(\"script\")\n",
       "\t    .attr(\"src\", \"http://cdn.rawgit.com/domitry/Nyaplotjs/master/release/nyaplot.js\")\n",
       "\t    .attr(\"async\", true);\n",
       "\n",
       "\tscript[0][0].onload = script[0][0].onreadystatechange = function(){\n",
       "\n",
       "\n",
       "\t    var event = document.createEvent(\"HTMLEvents\");\n",
       "\t    event.initEvent(\"load_nyaplot\",false,false);\n",
       "\t    window.dispatchEvent(event);\n",
       "\t    console.log('Finished loading Nyaplotjs');\n",
       "\n",
       "\t};\n",
       "\n",
       "\n",
       "});});\n",
       "}\n"
      ],
      "text/plain": [
       "\"if(window['d3'] === undefined ||\\n   window['Nyaplot'] === undefined){\\n    var path = {\\\"d3\\\":\\\"https://cdnjs.cloudflare.com/ajax/libs/d3/3.5.5/d3.min\\\",\\\"downloadable\\\":\\\"http://cdn.rawgit.com/domitry/d3-downloadable/master/d3-downloadable\\\"};\\n\\n\\n\\n    var shim = {\\\"d3\\\":{\\\"exports\\\":\\\"d3\\\"},\\\"downloadable\\\":{\\\"exports\\\":\\\"downloadable\\\"}};\\n\\n    require.config({paths: path, shim:shim});\\n\\n\\nrequire(['d3'], function(d3){window['d3']=d3;console.log('finished loading d3');require(['downloadable'], function(downloadable){window['downloadable']=downloadable;console.log('finished loading downloadable');\\n\\n\\tvar script = d3.select(\\\"head\\\")\\n\\t    .append(\\\"script\\\")\\n\\t    .attr(\\\"src\\\", \\\"http://cdn.rawgit.com/domitry/Nyaplotjs/master/release/nyaplot.js\\\")\\n\\t    .attr(\\\"async\\\", true);\\n\\n\\tscript[0][0].onload = script[0][0].onreadystatechange = function(){\\n\\n\\n\\t    var event = document.createEvent(\\\"HTMLEvents\\\");\\n\\t    event.initEvent(\\\"load_nyaplot\\\",false,false);\\n\\t    window.dispatchEvent(event);\\n\\t    console.log('Finished loading Nyaplotjs');\\n\\n\\t};\\n\\n\\n});});\\n}\\n\""
      ]
     },
     "metadata": {},
     "output_type": "display_data"
    },
    {
     "data": {
      "text/plain": [
       "Object"
      ]
     },
     "execution_count": 1,
     "metadata": {},
     "output_type": "execute_result"
    }
   ],
   "source": [
    "require 'open-uri'\n",
    "require 'json'\n",
    "require 'daru'\n",
    "require 'gsl'\n",
    "require 'distribution'\n",
    "require 'sqlite3' ##This should return true if you have SQLite3 installed\n",
    "require './regression'\n",
    "include Regression"
   ]
  },
  {
   "cell_type": "code",
   "execution_count": 2,
   "metadata": {},
   "outputs": [
    {
     "data": {
      "text/plain": [
       "true"
      ]
     },
     "execution_count": 2,
     "metadata": {},
     "output_type": "execute_result"
    }
   ],
   "source": [
    "dir = \"#{ENV['HOME']}/cs6140/final_project\"\n",
    "db = SQLite3::Database.new \"#{dir}/credit_risk_data.db\"\n",
    "db.results_as_hash = true"
   ]
  },
  {
   "cell_type": "code",
   "execution_count": 3,
   "metadata": {},
   "outputs": [
    {
     "data": {
      "text/plain": [
       "[]"
      ]
     },
     "execution_count": 3,
     "metadata": {},
     "output_type": "execute_result"
    }
   ],
   "source": [
    "begin db.execute(\"drop table cross_validation\"); rescue; end\n",
    "sql = <<SQL\n",
    "create temp table cross_validation as \n",
    "  select sk_id_curr, abs(random()) % 10 as fold\n",
    "  from application_train\n",
    "  order by random()\n",
    "SQL\n",
    "db.execute(sql)"
   ]
  },
  {
   "cell_type": "code",
   "execution_count": 4,
   "metadata": {},
   "outputs": [
    {
     "data": {
      "text/plain": [
       "[]"
      ]
     },
     "execution_count": 4,
     "metadata": {},
     "output_type": "execute_result"
    }
   ],
   "source": [
    "sql = <<SQL\n",
    "create temp view example_regression as \n",
    "  select a.sk_id_curr, \n",
    "  target,\n",
    "  fold, ext_source_1, ext_source_2, ext_source_3\n",
    "  from application_train a inner join cross_validation c on a.sk_id_curr = c.sk_id_curr\n",
    "SQL\n",
    "begin db.execute(\"drop view example_regression\"); rescue; end\n",
    "db.execute(sql)"
   ]
  },
  {
   "cell_type": "code",
   "execution_count": 5,
   "metadata": {},
   "outputs": [
    {
     "data": {
      "text/plain": [
       "1"
      ]
     },
     "execution_count": 5,
     "metadata": {},
     "output_type": "execute_result"
    }
   ],
   "source": [
    "column_types = Hash.new\n",
    "db.execute(\"PRAGMA table_info(application_train);\").each do |row|\n",
    "  column_types[row[\"name\"]] = row[\"type\"]\n",
    "end\n",
    "1"
   ]
  },
  {
   "cell_type": "code",
   "execution_count": 6,
   "metadata": {},
   "outputs": [
    {
     "data": {
      "text/plain": [
       ":plot"
      ]
     },
     "execution_count": 6,
     "metadata": {},
     "output_type": "execute_result"
    }
   ],
   "source": [
    "def plot x, y\n",
    "  Daru::DataFrame.new({x: x, y: y}).plot(type: :line, x: :x, y: :y) do |plot, diagram|\n",
    "    plot.x_label \"X\"\n",
    "    plot.y_label \"Y\"\n",
    "  end\n",
    "end"
   ]
  },
  {
   "cell_type": "code",
   "execution_count": 7,
   "metadata": {},
   "outputs": [
    {
     "data": {
      "text/plain": [
       ":adjust"
      ]
     },
     "execution_count": 7,
     "metadata": {},
     "output_type": "execute_result"
    }
   ],
   "source": [
    "class NaiveBayesModel\n",
    "  def func dataset, w\n",
    "    nll = 0.0\n",
    "    \n",
    "    dataset.each do |i|\n",
    "      nll -= Math.log(w[\"#{i[\"label\"]}\"])\n",
    "      i[\"features\"].each do |j,k|\n",
    "        next if k.nil? || k.eql?(\"\") \n",
    "        nll += 0.5*(Math.log(2*(Math::PI)*(w[\"#{i[\"label\"]}_sigma_#{j}\"]**2)) + ((k-(w[\"#{i[\"label\"]}_mu_#{j}\"])**2)/(2*(w[\"#{i[\"label\"]}_sigma_#{j}\"]**2))))\n",
    "      end\n",
    "    end\n",
    "    \n",
    "    return nll\n",
    "  end\n",
    "  \n",
    "  @@classes = []\n",
    "  \n",
    "  def grad dataset, w\n",
    "    g = Hash.new {|h,k| h[k] = 0.0}\n",
    "    \n",
    "    if @@classes.length ==0\n",
    "      dataset.each do |i|\n",
    "        @@classes << i[\"label\"]\n",
    "      end\n",
    "      @@classes.uniq!\n",
    "    end\n",
    "    \n",
    "    dataset.each do |i|\n",
    "      g[\"#{i[\"label\"]}\"] -= 1.0/w[\"#{i[\"label\"]}\"]\n",
    "      i[\"features\"].each do |j,k|\n",
    "        sigma = w[\"#{i[\"label\"]}_sigma_#{j}\"]\n",
    "        mu = w[\"#{i[\"label\"]}_mu_#{j}\"]\n",
    "        next if k.nil? || k.eql?(\"\")\n",
    "        g[\"#{i[\"label\"]}_mu_#{j}\"] -= (k-mu)/(sigma**2)\n",
    "        g[\"#{i[\"label\"]}_sigma_#{j}\"] += (0.5/sigma**2) - ((k-mu)/(2*(sigma**4)))\n",
    "      end\n",
    "    end\n",
    "    \n",
    "    return g\n",
    "  end\n",
    "  \n",
    "  def predict row, w\n",
    "    score = Hash.new{|h,k| h[k]=0.0}\n",
    "    \n",
    "    best_score = 0.0\n",
    "#     best_lbl = \"\"\n",
    "    \n",
    "    @@classes.each do |i|\n",
    "      score[i] += Math.log(w[i])\n",
    "      row[\"features\"].each do |j,k|\n",
    "        next if k.nil? || k.eql?(\"\")\n",
    "        score[i] -= 0.5*(Math.log(2*(Math::PI)*(w[\"#{i}_sigma_#{j}\"]**2)) + ((k-(w[\"#{i}_mu_#{j}\"])**2)/(2*(w[\"#{i}_sigma_#{j}\"]**2))))\n",
    "      end\n",
    "    end\n",
    "    best_score = score.values.max_by{ |x| x**2}\n",
    "    best_lbl = score.key(best_score)\n",
    "    return {best_lbl => best_score}\n",
    "  end\n",
    "\n",
    "  def adjust w\n",
    "    w.each_key do |fname|\n",
    "      next if fname.class != Numeric\n",
    "      if fname.inclue?(\"mu\") || fname.include?(\"sigma\")\n",
    "      else\n",
    "        w[fname] = [[0.001, w[fname]].max, 0.999].min\n",
    "      end\n",
    "    end\n",
    "  end\n",
    "end"
   ]
  },
  {
   "cell_type": "code",
   "execution_count": 8,
   "metadata": {},
   "outputs": [
    {
     "data": {
      "text/plain": [
       ":gradient_descent"
      ]
     },
     "execution_count": 8,
     "metadata": {},
     "output_type": "execute_result"
    }
   ],
   "source": [
    "def gradient_descent x, w, obj, learning_rate = 1e-4, rmse_tol = 1e-3, max_iters = 1000\n",
    "  iters = []\n",
    "  rmses = []\n",
    "  zscore_bias_data = x\n",
    "  w = obj.adjust w\n",
    "  rms = obj.func(zscore_bias_data, w)\n",
    "  rmses << rms\n",
    "  itr = 1\n",
    "  iters << itr\n",
    "  rmse_diff = 100\n",
    "  while itr < max_iters && rmse_diff > rmse_tol do\n",
    "    dw = obj.grad(zscore_bias_data, w)\n",
    "    w = update_weights(w, dw, learning_rate)\n",
    "    w = obj.adjust w\n",
    "    rms = obj.func(zscore_bias_data, w)\n",
    "    rmse_diff = rmses.last - rms\n",
    "    rmses << rms\n",
    "    \n",
    "    itr+=1\n",
    "    iters << itr\n",
    "  end\n",
    "  \n",
    "  return [iters, rmses, w, zscore_bias_data]\n",
    "end"
   ]
  },
  {
   "cell_type": "code",
   "execution_count": 9,
   "metadata": {},
   "outputs": [
    {
     "data": {
      "text/plain": [
       "1"
      ]
     },
     "execution_count": 9,
     "metadata": {},
     "output_type": "execute_result"
    }
   ],
   "source": [
    "def find_nb_score model, w, data\n",
    "  scores = []\n",
    "  data.each do |row|\n",
    "    corrected_row = row\n",
    "    prediction = model.predict(corrected_row, w)\n",
    "    scores << [prediction.collect{|j,k| k}[0],corrected_row[\"label\"]]\n",
    "  end\n",
    "  return scores\n",
    "end\n",
    "1"
   ]
  },
  {
   "cell_type": "code",
   "execution_count": 10,
   "metadata": {},
   "outputs": [
    {
     "data": {
      "text/plain": [
       ":roc_curve"
      ]
     },
     "execution_count": 10,
     "metadata": {},
     "output_type": "execute_result"
    }
   ],
   "source": [
    "def roc_curve(scores)\n",
    "  totals = Hash.new {|h,k| h[k] = 0.0} \n",
    "  scores.each do |j,k|\n",
    "    totals[k] += 1.0\n",
    "  end\n",
    "  \n",
    "  computed = Hash.new{|h,k| h[k]=0.0}\n",
    "  false_positive = [0.0]\n",
    "  true_positive = [0.0]\n",
    "  auc = 0.0\n",
    "  \n",
    "  scores.sort_by{ |scor,pred| -scor}.each do |score,predicted|\n",
    "    computed[predicted] += 1\n",
    "    fpr = computed[0]/totals[0]\n",
    "    tpr = computed[1]/totals[1]\n",
    "    auc += 0.5*(fpr-false_positive.last)*(tpr+true_positive.last)\n",
    "    false_positive << fpr\n",
    "    true_positive << tpr\n",
    "  end\n",
    "  return[false_positive,true_positive,auc]\n",
    "end"
   ]
  },
  {
   "cell_type": "code",
   "execution_count": 11,
   "metadata": {},
   "outputs": [
    {
     "data": {
      "text/plain": [
       "1"
      ]
     },
     "execution_count": 11,
     "metadata": {},
     "output_type": "execute_result"
    }
   ],
   "source": [
    "batch_data = db.execute(\"SELECT SK_ID_CURR, TARGET, CNT_CHILDREN, FLAG_MOBIL, FLAG_EMP_PHONE, FLAG_WORK_PHONE, FLAG_CONT_MOBILE, FLAG_PHONE, FLAG_EMAIL, CNT_FAM_MEMBERS, REGION_RATING_CLIENT, REGION_RATING_CLIENT_W_CITY, HOUR_APPR_PROCESS_START, REG_REGION_NOT_LIVE_REGION, REG_REGION_NOT_WORK_REGION, LIVE_REGION_NOT_WORK_REGION, REG_CITY_NOT_LIVE_CITY, REG_CITY_NOT_WORK_CITY, LIVE_CITY_NOT_WORK_CITY, NAME_CONTRACT_TYPE, CODE_GENDER, FLAG_OWN_CAR, FLAG_OWN_REALTY, NAME_TYPE_SUITE, NAME_INCOME_TYPE, NAME_EDUCATION_TYPE, NAME_FAMILY_STATUS, NAME_HOUSING_TYPE, OCCUPATION_TYPE, WEEKDAY_APPR_PROCESS_START, ORGANIZATION_TYPE, EMERGENCYSTATE_MODE, OBS_30_CNT_SOCIAL_CIRCLE, DEF_30_CNT_SOCIAL_CIRCLE, OBS_60_CNT_SOCIAL_CIRCLE, DEF_60_CNT_SOCIAL_CIRCLE FROM application_train limit 50000;\")\n",
    "data = labelData batch_data , column_types\n",
    "1"
   ]
  },
  {
   "cell_type": "code",
   "execution_count": 12,
   "metadata": {},
   "outputs": [
    {
     "data": {
      "text/html": [
       "<div id='vis-f8a1e384-be63-438a-a0c1-03c440241516'></div>\n",
       "<script>\n",
       "(function(){\n",
       "    var render = function(){\n",
       "        var model = {\"panes\":[{\"diagrams\":[{\"type\":\"line\",\"options\":{\"x\":\"x\",\"y\":\"y\"},\"data\":\"688e188d-6bca-4c59-8d92-1920e24d29ba\"}],\"options\":{\"x_label\":\"X\",\"y_label\":\"Y\",\"zoom\":true,\"width\":700,\"xrange\":[1,3],\"yrange\":[11371465.402160412,6453293924.705217]}}],\"data\":{\"688e188d-6bca-4c59-8d92-1920e24d29ba\":[{\"x\":1,\"y\":6453293924.705217},{\"x\":2,\"y\":11371465.402160412},{\"x\":3,\"y\":11382820.79212272}]},\"extension\":[]}\n",
       "        var id_name = '#vis-f8a1e384-be63-438a-a0c1-03c440241516';\n",
       "        Nyaplot.core.parse(model, id_name);\n",
       "\n",
       "        require(['downloadable'], function(downloadable){\n",
       "          var svg = d3.select(id_name).select(\"svg\");\n",
       "\t  if(!svg.empty())\n",
       "\t    svg.call(downloadable().filename('fig'));\n",
       "\t});\n",
       "    };\n",
       "    if(window['Nyaplot']==undefined){\n",
       "        window.addEventListener('load_nyaplot', render, false);\n",
       "\treturn;\n",
       "    } else {\n",
       "       render();\n",
       "    }\n",
       "})();\n",
       "</script>\n"
      ],
      "text/plain": [
       "#<Nyaplot::Plot:0x007fa005f1b330 @properties={:diagrams=>[#<Nyaplot::Diagram:0x007fa005f18798 @properties={:type=>:line, :options=>{:x=>:x, :y=>:y}, :data=>\"688e188d-6bca-4c59-8d92-1920e24d29ba\"}, @xrange=[1, 3], @yrange=[11371465.402160412, 6453293924.705217]>], :options=>{:x_label=>\"X\", :y_label=>\"Y\", :zoom=>true, :width=>700, :xrange=>[1, 3], :yrange=>[11371465.402160412, 6453293924.705217]}}>"
      ]
     },
     "execution_count": 12,
     "metadata": {},
     "output_type": "execute_result"
    }
   ],
   "source": [
    "nb = NaiveBayesModel.new\n",
    "w = Hash.new {|h,k| h[k] = 0.5}\n",
    "iters, lik, norms, w, zb = gradient_descent data, w, nb, 1e-3, 1.0, 100\n",
    "plot(iters, lik)"
   ]
  },
  {
   "cell_type": "markdown",
   "metadata": {},
   "source": [
    "### Naive Bayes\n",
    "*Graph between Iterations and RMSE*\n",
    "![naive](Naive_rmse.png)\n",
    "\n"
   ]
  },
  {
   "cell_type": "code",
   "execution_count": 13,
   "metadata": {
    "scrolled": true
   },
   "outputs": [
    {
     "name": "stdout",
     "output_type": "stream",
     "text": [
      "0.490662350008394\n"
     ]
    }
   ],
   "source": [
    "sql = \"SELECT SK_ID_CURR, TARGET, CNT_CHILDREN, FLAG_MOBIL, FLAG_EMP_PHONE, FLAG_WORK_PHONE, FLAG_CONT_MOBILE, FLAG_PHONE, FLAG_EMAIL, CNT_FAM_MEMBERS, REGION_RATING_CLIENT, REGION_RATING_CLIENT_W_CITY, HOUR_APPR_PROCESS_START, REG_REGION_NOT_LIVE_REGION, REG_REGION_NOT_WORK_REGION, LIVE_REGION_NOT_WORK_REGION, REG_CITY_NOT_LIVE_CITY, REG_CITY_NOT_WORK_CITY, LIVE_CITY_NOT_WORK_CITY, NAME_CONTRACT_TYPE, CODE_GENDER, FLAG_OWN_CAR, FLAG_OWN_REALTY, NAME_TYPE_SUITE, NAME_INCOME_TYPE, NAME_EDUCATION_TYPE, NAME_FAMILY_STATUS, NAME_HOUSING_TYPE, OCCUPATION_TYPE, WEEKDAY_APPR_PROCESS_START, ORGANIZATION_TYPE, EMERGENCYSTATE_MODE, OBS_30_CNT_SOCIAL_CIRCLE, DEF_30_CNT_SOCIAL_CIRCLE, OBS_60_CNT_SOCIAL_CIRCLE, DEF_60_CNT_SOCIAL_CIRCLE FROM application_train limit 10000;\"\n",
    "scores = find_nb_score NaiveBayesModel.new, w, data\n",
    "f_p, t_p, auc = roc_curve scores\n",
    "puts auc\n",
    "plot f_p, t_p"
   ]
  },
  {
   "cell_type": "markdown",
   "metadata": {},
   "source": [
    "### Naive Bayes\n",
    "*Accuracy is 0.490662350008394*\n",
    "![naive](Naive_roc.png)\n"
   ]
  },
  {
   "cell_type": "code",
   "execution_count": null,
   "metadata": {},
   "outputs": [],
   "source": []
  }
 ],
 "metadata": {
  "kernelspec": {
   "display_name": "Ruby 2.4.1",
   "language": "ruby",
   "name": "ruby"
  },
  "language_info": {
   "file_extension": ".rb",
   "mimetype": "application/x-ruby",
   "name": "ruby",
   "version": "2.4.1"
  }
 },
 "nbformat": 4,
 "nbformat_minor": 2
}
